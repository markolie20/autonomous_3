{
    "cells": [
        {
            "cell_type": "markdown",
            "id": "43200e67",
            "metadata": {},
            "source": [
                "# Experiment Results Evaluation\n",
                "\n",
                "This notebook loads the metrics saved from different experiment runs and generates comparative plots."
            ]
        },
        {
            "cell_type": "code",
            "execution_count": null,
            "id": "336460b4",
            "metadata": {},
            "outputs": [],
            "source": [
                "import sys\n",
                "import os\n",
                "from pathlib import Path\n",
                "\n",
                "# Adjust path to import from src\n",
                "notebook_dir = os.getcwd()\n",
                "project_root = Path(notebook_dir).parent # Assumes notebook is in autonomous_3/notebooks\n",
                "src_path = project_root / 'src'\n",
                "if str(src_path) not in sys.path:\n",
                "    sys.path.insert(0, str(src_path))\n",
                "if str(project_root) not in sys.path:\n",
                "    sys.path.insert(0, str(project_root))\n",
                "\n",
                "print(f\"Project root: {project_root}\")\n",
                "print(f\"Src path: {src_path}\")\n",
                "\n",
                "try:\n",
                "    from src.analysis import plot_results\n",
                "    from src import config as main_project_config\n",
                "    print(\"Successfully imported analysis modules.\")\n",
                "except ImportError as e:\n",
                "    print(f\"Error importing: {e}. Check paths and ensure __init__.py files exist.\")"
            ]
        },
        {
            "cell_type": "markdown",
            "id": "5848638f",
            "metadata": {},
            "source": [
                "## Load Data and Generate Plots\n",
                "\n",
                "The `main_analysis` function will:\n",
                "1. Scan the `results_experiments` directory (defined in `src/config.py`) for subfolders (each representing an experiment).\n",
                "2. Load the `episode_metrics.csv` from each experiment folder.\n",
                "3. Generate and save plots comparing these experiments.\n",
                "\n",
                "Plots will be saved in a subfolder `analysis_plots` within your main results directory."
            ]
        },
        {
            "cell_type": "code",
            "execution_count": null,
            "id": "8c17f154",
            "metadata": {},
            "outputs": [],
            "source": [
                "# Ensure the results directory from config is used\n",
                "results_base_directory = main_project_config.RESULTS_DIR_BASE\n",
                "print(f\"Analyzing results from: {results_base_directory}\")\n",
                "\n",
                "# You can optionally specify which experiment IDs to analyze if you don't want all of them\n",
                "# example_specific_experiments = ['lr0.00025_bs32_uf1000_g0.99', 'default_params']\n",
                "# plot_results.main_analysis(results_base_directory, experiment_ids_to_analyze=example_specific_experiments)\n",
                "\n",
                "# Analyze all experiments found in the results directory\n",
                "plot_results.main_analysis(results_base_directory)"
            ]
        },
        {
            "cell_type": "markdown",
            "id": "f8cf61c6",
            "metadata": {},
            "source": [
                "### Manual Plotting Example (If needed for more customization)\n",
                "\n",
                "You can also load data for specific experiments and call plotting functions individually for more control."
            ]
        },
        {
            "cell_type": "code",
            "execution_count": null,
            "id": "f322f61c",
            "metadata": {},
            "outputs": [],
            "source": [
                "# Example of manual loading and plotting (if you want more fine-grained control)\n",
                "\n",
                "# experiment_ids = ['lr0.00025_bs32_uf1000_g0.99', 'lr0.0001_bs64_uf1000_g0.99'] # Example\n",
                "# loaded_data = {}\n",
                "# for exp_id in experiment_ids:\n",
                "#     df = plot_results.load_experiment_data(results_base_directory, exp_id)\n",
                "#     if df is not None:\n",
                "#         loaded_data[exp_id] = df\n",
                "\n",
                "# if loaded_data:\n",
                "#     output_plot_dir = results_base_directory / \"custom_analysis_plots\"\n",
                "#     os.makedirs(output_plot_dir, exist_ok=True)\n",
                "#     print(f\"Custom plots will be saved to: {output_plot_dir}\")\n",
                "    \n",
                "#     plot_results.plot_learning_curves(loaded_data, agent_name_pattern='_DQN', metric_column_suffix='_score', \n",
                "#                                       smoothing_window=10, output_dir=output_plot_dir)\n",
                "    \n",
                "#     plot_results.plot_comparison_bar_chart(loaded_data, metric_column_suffix='_score', output_dir=output_plot_dir)\n",
                "# else:\n",
                "#     print(\"No data loaded for manual plotting example.\")"
            ]
        }
    ],
    "metadata": {
        "kernelspec": {
            "display_name": "Python 3",
            "language": "python",
            "name": "python3"
        },
        "language_info": {
            "codemirror_mode": {
                "name": "ipython",
                "version": 3
            },
            "file_extension": ".py",
            "mimetype": "text/x-python",
            "name": "python",
            "nbconvert_exporter": "python",
            "pygments_lexer": "ipython3",
            "version": "3.10.12"
        }
    },
    "nbformat": 4,
    "nbformat_minor": 5
}
