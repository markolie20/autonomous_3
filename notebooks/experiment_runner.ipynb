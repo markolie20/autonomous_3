{
    "cells": [
        {
            "cell_type": "markdown",
            "metadata": {},
            "source": [
                "# Warlords Multi-Agent Experiment Runner\n",
                "\n",
                "This notebook sets up the environment (especially for Google Colab) and runs the Warlords tournament using the `src.main` module.\n",
                "\n",
                "**Instructions:**\n",
                "1. If using Google Colab, uncomment and run the Google Drive mount cell.\n",
                "2. Ensure your project (`autonomous_3` folder) is in the specified Google Drive path or current working directory.\n",
                "3. Run the dependency installation cell.\n",
                "4. Run the AutoROM cell to download Atari ROMs (accept license when prompted).\n",
                "5. Run the main experiment cell."
            ]
        },
        {
            "cell_type": "markdown",
            "metadata": {},
            "source": [
                "## 1. Setup (Google Colab - Optional)"
            ]
        },
        {
            "cell_type": "code",
            "execution_count": null,
            "metadata": {},
            "outputs": [],
            "source": [
                "# from google.colab import drive\n",
                "# drive.mount('/content/drive')\n",
                "\n",
                "# %cd /content/drive/MyDrive/autonomous_3 \n",
                "# !pwd # Verify current directory"
            ]
        },
        {
            "cell_type": "markdown",
            "metadata": {},
            "source": [
                "## 2. Install Dependencies"
            ]
        },
        {
            "cell_type": "code",
            "execution_count": null,
            "metadata": {},
            "outputs": [],
            "source": [
                "!pip install -r ../requirements.txt\n",
                "# Or, install specific critical packages if requirements.txt is problematic:\n",
                "# !pip install pettingzoo[atari] autorom[accept-rom-license] torch torchvision torchaudio opencv-python-headless imageio numpy matplotlib"
            ]
        },
        {
            "cell_type": "markdown",
            "metadata": {},
            "source": [
                "## 3. Download Atari ROMs"
            ]
        },
        {
            "cell_type": "code",
            "execution_count": null,
            "metadata": {},
            "outputs": [],
            "source": [
                "!AutoROM -y"
            ]
        },
        {
            "cell_type": "markdown",
            "metadata": {},
            "source": [
                "## 4. Add `src` to Python Path and Run Experiment"
            ]
        },
        {
            "cell_type": "code",
            "execution_count": null,
            "metadata": {},
            "outputs": [],
            "source": [
                "import sys\n",
                "import os\n",
                "\n",
                "# Assuming this notebook is in 'autonomous_3/notebooks/'\n",
                "project_root = os.path.abspath(os.path.join(os.getcwd(), '..'))\n",
                "src_path = os.path.join(project_root, 'src')\n",
                "\n",
                "if src_path not in sys.path:\n",
                "    sys.path.insert(0, src_path)\n",
                "if project_root not in sys.path: # To allow 'from src import ...'\n",
                "     sys.path.insert(0, project_root)\n",
                "\n",
                "print(f\"Project root (expected autonomous_3): {project_root}\")\n",
                "print(f\"Src path: {src_path}\")\n",
                "print(f\"Current sys.path: {sys.path[:3]}\")\n",
                "\n",
                "try:\n",
                "    from src import main as warlords_main\n",
                "    print(\"Successfully imported src.main\")\n",
                "    # Run the main function from src.main\n",
                "    warlords_main.main()\n",
                "except ImportError as e:\n",
                "    print(f\"Error importing src.main: {e}\")\n",
                "    print(\"Please ensure the notebook is in the 'notebooks' directory and 'src' is sibling to it.\")\n",
                "    print(\"Or adjust the path modification logic above.\")"
            ]
        },
        {
            "cell_type": "markdown",
            "metadata": {},
            "source": [
                "## 5. (Optional) Display Video Download Links"
            ]
        },
        {
            "cell_type": "code",
            "execution_count": null,
            "metadata": {},
            "outputs": [],
            "source": [
                "from IPython.display import FileLink, display\n",
                "import glob\n",
                "from src import config # To get VIDEO_DIR\n",
                "\n",
                "video_files = sorted(glob.glob(os.path.join(config.VIDEO_DIR, \"*.mp4\")))\n",
                "if video_files:\n",
                "    print(\"\\nDownload the recorded games:\")\n",
                "    for file_path in video_files:\n",
                "        display(FileLink(file_path))\n",
                "else:\n",
                "    print(f\"No video files found in {config.VIDEO_DIR}\")"
            ]
        },
        {
            "cell_type": "markdown",
            "id": "2f7480be",
            "metadata": {},
            "source": [
                "## 5. Run Fast Test Experiment (Optional)"
            ]
        },
        {
            "cell_type": "code",
            "execution_count": null,
            "id": "876221d9",
            "metadata": {},
            "outputs": [],
            "source": [
                "import sys\n",
                "import os\n",
                "from pathlib import Path\n",
                "\n",
                "# Ensure paths are set as in the main experiment cell above\n",
                "notebook_dir = os.getcwd()\n",
                "project_root = Path(notebook_dir).parent \n",
                "src_path = project_root / 'src'\n",
                "if str(src_path) not in sys.path:\n",
                "    sys.path.insert(0, str(src_path))\n",
                "if str(project_root) not in sys.path:\n",
                "     sys.path.insert(0, str(project_root))\n",
                "\n",
                "try:\n",
                "    from src import main as warlords_main_runner\n",
                "    print(\"Successfully imported src.main for fast test.\")\n",
                "    # Run the main experiment function with the fast test configuration\n",
                "    warlords_main_runner.run_experiments(config_module_name=\"src.config_fast_test\")\n",
                "except ImportError as e:\n",
                "    print(f\"Error importing src.main: {e}\")"
            ]
        }
    ],
    "metadata": {
        "kernelspec": {
            "display_name": "Python 3",
            "language": "python",
            "name": "python3"
        },
        "language_info": {
            "codemirror_mode": {
                "name": "ipython",
                "version": 3
            },
            "file_extension": ".py",
            "mimetype": "text/x-python",
            "name": "python",
            "nbconvert_exporter": "python",
            "pygments_lexer": "ipython3",
            "version": "3.10.12"
        }
    },
    "nbformat": 4,
    "nbformat_minor": 5
}
